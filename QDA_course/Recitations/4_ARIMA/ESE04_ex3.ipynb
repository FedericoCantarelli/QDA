{
 "cells": [
  {
   "attachments": {},
   "cell_type": "markdown",
   "metadata": {},
   "source": [
    "\n",
    "# Exercise 3\n",
    "\n",
    "In a chemical process, data related to the concentration of a given component are measured every two hours. 197 consecutive observations are stored in `ESE4_ex3.csv` (time series ‘A’ “Time Series Analysis – 3rd edition” Box Jenkins Reinsel – Prentice Hall)  \n",
    "\n",
    "\n",
    "Estimate the most suitable ARIMA model."
   ]
  },
  {
   "cell_type": "code",
   "execution_count": null,
   "metadata": {},
   "outputs": [],
   "source": [
    "# Import the necessary libraries\n",
    "import numpy as np\n",
    "import matplotlib.pyplot as plt\n",
    "import pandas as pd\n",
    "from scipy import stats\n",
    "import seaborn as sns\n",
    "\n",
    "# Import the dataset\n",
    "data = pd.read_csv('ESE4_ex3.csv')\n",
    "\n",
    "# Inspect the dataset\n",
    "data.head()"
   ]
  },
  {
   "cell_type": "code",
   "execution_count": null,
   "metadata": {},
   "outputs": [],
   "source": [
    "# Plot the data \n",
    "plt.plot(data['EXE3'], 'o-')\n",
    "plt.xlabel('Index')\n",
    "plt.ylabel('EXE3')\n",
    "plt.title('Time series plot of EXE3')\n",
    "plt.grid()\n",
    "plt.show()"
   ]
  },
  {
   "cell_type": "code",
   "execution_count": null,
   "metadata": {},
   "outputs": [],
   "source": [
    "# Import the necessary libraries for the runs test\n",
    "from statsmodels.sandbox.stats.runs import runstest_1samp\n",
    "\n",
    "_, pval_runs = runstest_1samp(data['EXE3'], correction=False)\n",
    "print('Runs test p-value = {:.3f}'.format(pval_runs))\n",
    "\n",
    "# Plot the acf and pacf using the statsmodels library\n",
    "import statsmodels.graphics.tsaplots as sgt\n",
    "\n",
    "fig, ax = plt.subplots(2, 1)\n",
    "sgt.plot_acf(data['EXE3'], lags = int(len(data)/3), zero=False, ax=ax[0])\n",
    "fig.subplots_adjust(hspace=0.5)\n",
    "sgt.plot_pacf(data['EXE3'], lags = int(len(data)/3), zero=False, ax=ax[1], method = 'ywm')\n",
    "plt.show()"
   ]
  },
  {
   "attachments": {},
   "cell_type": "markdown",
   "metadata": {},
   "source": [
    "> The process is not stationary. Let's try to use the differencing operation"
   ]
  },
  {
   "cell_type": "code",
   "execution_count": null,
   "metadata": {},
   "outputs": [],
   "source": [
    "data['diff1'] = data['EXE3'].diff(1)\n",
    "\n",
    "plt.plot(data['diff1'], 'o-')\n",
    "plt.xlabel('Index')\n",
    "plt.ylabel('DIFF 1')\n",
    "plt.title('Time series plot of DIFF 1')\n",
    "plt.grid()\n",
    "plt.show()"
   ]
  },
  {
   "cell_type": "code",
   "execution_count": null,
   "metadata": {},
   "outputs": [],
   "source": [
    "_, pval_runs = runstest_1samp(data['diff1'][1:], correction=False)\n",
    "print('Runs test p-value = {:.3f}'.format(pval_runs))\n",
    "\n",
    "fig, ax = plt.subplots(2, 1)\n",
    "sgt.plot_acf(data['diff1'][1:], lags = int(len(data)/3), zero=False, ax=ax[0])\n",
    "fig.subplots_adjust(hspace=0.5)\n",
    "sgt.plot_pacf(data['diff1'][1:], lags = int(len(data)/3), zero=False, ax=ax[1], method = 'ywm')\n",
    "plt.show()"
   ]
  },
  {
   "attachments": {},
   "cell_type": "markdown",
   "metadata": {},
   "source": [
    "> After the differencing operation and the ACF/PACF plots, we can try an ARIMA(0, 1, 1) model. Let's try to keep the constant term. \n",
    "> \n",
    "> <t1 style=\"color:red\"> Remind: parsimony! </t1>"
   ]
  },
  {
   "cell_type": "code",
   "execution_count": null,
   "metadata": {},
   "outputs": [],
   "source": [
    "#calculate an ARIMA model: import the necessary library\n",
    "import qda\n",
    "\n",
    "# fit model ARIMA with constant term\n",
    "model = qda.ARIMA(data['EXE3'], order=(0,1,1), add_constant=True)\n",
    "\n",
    "qda.ARIMAsummary(model)"
   ]
  },
  {
   "attachments": {},
   "cell_type": "markdown",
   "metadata": {},
   "source": [
    "> The constant term is not significant, remove it and fit the model again. "
   ]
  },
  {
   "cell_type": "code",
   "execution_count": null,
   "metadata": {},
   "outputs": [],
   "source": [
    "# fit model ARIMA without constant term\n",
    "model = qda.ARIMA(data['EXE3'], order=(0,1,1), add_constant=False)\n",
    "\n",
    "qda.ARIMAsummary(model)"
   ]
  },
  {
   "attachments": {},
   "cell_type": "markdown",
   "metadata": {},
   "source": [
    "> The calculated ARIMA model is in the form of an IMA(1,1):\n",
    ">\n",
    "> $$Y_t - Y_{t-1} = \\nabla Y_t =  \\theta_{1}  \\epsilon_{t-1} + \\epsilon_t $$\n",
    ">\n",
    "> Finally, check the assumptions on residuals"
   ]
  },
  {
   "cell_type": "code",
   "execution_count": null,
   "metadata": {},
   "outputs": [],
   "source": [
    "#extract the residuals\n",
    "residuals = model.resid[1:] \n",
    "\n",
    "# Perform the Shapiro-Wilk test\n",
    "_, pval_SW = stats.shapiro(residuals)\n",
    "print('Shapiro-Wilk test p-value = %.3f' % pval_SW)\n",
    "\n",
    "# Plot the qqplot\n",
    "stats.probplot(residuals, dist=\"norm\", plot=plt)\n",
    "plt.show()"
   ]
  },
  {
   "cell_type": "code",
   "execution_count": null,
   "metadata": {},
   "outputs": [],
   "source": [
    "_, pval_runs = runstest_1samp(residuals, correction=False)\n",
    "print('Runs test p-value = {:.3f}'.format(pval_runs))\n",
    "\n",
    "fig, ax = plt.subplots(2, 1)\n",
    "sgt.plot_acf(residuals, lags = int(len(data)/3), zero=False, ax=ax[0])\n",
    "fig.subplots_adjust(hspace=0.5)\n",
    "sgt.plot_pacf(residuals, lags = int(len(data)/3), zero=False, ax=ax[1], method = 'ywm')\n",
    "plt.show()"
   ]
  },
  {
   "cell_type": "code",
   "execution_count": null,
   "metadata": {},
   "outputs": [],
   "source": [
    "fig, axs = plt.subplots(2, 2)\n",
    "fig.suptitle('Residual Plots')\n",
    "stats.probplot(residuals, dist=\"norm\", plot=axs[0,0])\n",
    "axs[0,0].set_title('Normal probability plot')\n",
    "axs[0,1].scatter(model.fittedvalues[1:], model.resid[1:])\n",
    "axs[0,1].set_title('Versus Fits')\n",
    "fig.subplots_adjust(hspace=0.5)\n",
    "axs[1,0].hist(residuals)\n",
    "axs[1,0].set_title('Histogram')\n",
    "axs[1,1].plot(np.arange(1, len(residuals)+1), residuals, 'o-')\n",
    "plt.show()"
   ]
  },
  {
   "attachments": {},
   "cell_type": "markdown",
   "metadata": {},
   "source": [
    "> The model is adequate."
   ]
  }
 ],
 "metadata": {
  "kernelspec": {
   "display_name": "qda-base",
   "language": "python",
   "name": "python3"
  },
  "language_info": {
   "codemirror_mode": {
    "name": "ipython",
    "version": 3
   },
   "file_extension": ".py",
   "mimetype": "text/x-python",
   "name": "python",
   "nbconvert_exporter": "python",
   "pygments_lexer": "ipython3",
   "version": "3.7.16"
  },
  "orig_nbformat": 4,
  "vscode": {
   "interpreter": {
    "hash": "32b5ad8a1e88df1e33b06d38acb653c72d9d8bae24de032480219da9970c28a8"
   }
  }
 },
 "nbformat": 4,
 "nbformat_minor": 2
}
