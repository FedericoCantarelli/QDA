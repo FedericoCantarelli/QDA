{
 "cells": [
  {
   "attachments": {},
   "cell_type": "markdown",
   "metadata": {},
   "source": [
    "# EXERCISE 3\n",
    "\n",
    "Using the data of Exercise 2, estimate the scores for all the observations by projecting the input variables onto the space spanned by the first 2 PCs estimated on the first m = 40 data."
   ]
  },
  {
   "cell_type": "code",
   "execution_count": null,
   "metadata": {},
   "outputs": [],
   "source": [
    "# Import the necessary libraries\n",
    "import numpy as np\n",
    "import matplotlib.pyplot as plt\n",
    "import pandas as pd\n",
    "\n",
    "# Import the dataset\n",
    "data = pd.read_csv('ESE05_ex2.csv')\n",
    "\n",
    "# Print the first 5 rows of the dataset\n",
    "data.head()"
   ]
  },
  {
   "cell_type": "code",
   "execution_count": null,
   "metadata": {},
   "outputs": [],
   "source": [
    "# Extract a subset of the data with only the first 40 rows\n",
    "data40 = data.iloc[:40, :]\n",
    "\n",
    "# Print the size of the new dataset\n",
    "print(data40.describe())"
   ]
  },
  {
   "cell_type": "code",
   "execution_count": null,
   "metadata": {},
   "outputs": [],
   "source": [
    "# Standardize the data by subtracting the mean and dividing by the standard deviation\n",
    "data40_std = (data40 - data40.mean()) / data40.std()\n",
    "\n",
    "data40_std.describe()"
   ]
  },
  {
   "cell_type": "code",
   "execution_count": null,
   "metadata": {},
   "outputs": [],
   "source": [
    "# import the libraries for PCA\n",
    "from sklearn.decomposition import PCA\n",
    "\n",
    "# Create the PCA object\n",
    "pca_std = PCA()\n",
    "# Fit the PCA object to the data\n",
    "pca_std.fit(data40_std)\n",
    "# Print the eigenvalues\n",
    "print(\"Eigenvalues \\n\", pca_std.explained_variance_)\n",
    "# Print the eigenvectors\n",
    "print(\"\\nEigenvectors \\n\", pca_std.components_)\n",
    "# Print the explained variance ratio\n",
    "print(\"\\nExplained variance ratio \\n\", pca_std.explained_variance_ratio_)\n",
    "# Print the cumulative explained variance ratio\n",
    "print(\"\\nCumulative explained variance ratio \\n\", np.cumsum(pca_std.explained_variance_ratio_))\n"
   ]
  },
  {
   "attachments": {},
   "cell_type": "markdown",
   "metadata": {},
   "source": [
    "> Plot the scree plot to compare the eigenvalues."
   ]
  },
  {
   "cell_type": "code",
   "execution_count": null,
   "metadata": {},
   "outputs": [],
   "source": [
    "# Plot the eigenvalues (scree plot)\n",
    "plt.plot(pca_std.explained_variance_, 'o-')\n",
    "plt.xlabel('Component number')\n",
    "plt.ylabel('Eigenvalue')\n",
    "plt.title('Scree plot')\n",
    "plt.show()"
   ]
  },
  {
   "attachments": {},
   "cell_type": "markdown",
   "metadata": {},
   "source": [
    "> Now compute the scores for all the observations by projecting the input variables onto the space spanned by the first 2 PCs estimated on the first m = 40 data.\n",
    ">\n",
    "> In case of PCA on the non-standardized data:\n",
    "> $$ \\mathbf{z_i} = (\\mathbf{X} - \\bar{\\mathbf{x}}) \\mathbf{u_i}, \\ i = 1,2 $$\n",
    ">\n",
    "> In case of PCA on the standardized data:\n",
    "> $$ \\mathbf{z_i} = \\mathbf{X}^* \\mathbf{u_i}, \\ i = 1,2 $$\n",
    "> where $\\mathbf{X}^*$ is the standardized data matrix.\n"
   ]
  },
  {
   "cell_type": "code",
   "execution_count": null,
   "metadata": {},
   "outputs": [],
   "source": [
    "# Standardize the data by subtracting the mean and dividing by the standard deviation\n",
    "data_std = (data - data40.mean()) / data40.std()\n",
    "\n",
    "data_std.describe()"
   ]
  },
  {
   "cell_type": "code",
   "execution_count": null,
   "metadata": {},
   "outputs": [],
   "source": [
    "# Compute the scores\n",
    "scores = pca_std.transform(data_std)\n",
    "# create a dataframe with the scores\n",
    "scores_df = pd.DataFrame(scores, columns = ['z1', 'z2', 'z3'])\n",
    "# Print the first rows of the scores dataframe\n",
    "scores_df.head()"
   ]
  },
  {
   "cell_type": "code",
   "execution_count": null,
   "metadata": {},
   "outputs": [],
   "source": [
    "# Create a scatterplot with the first 40 values of the two scores \n",
    "plt.scatter(scores_df['z1'][:40], scores_df['z2'][:40], label='First 40 values')\n",
    "# Add the rest of the values to the scatterplot with a different color\n",
    "plt.scatter(scores_df['z1'][40:], scores_df['z2'][40:], color='r', label='All the rest')\n",
    "plt.xlabel('z1')\n",
    "plt.ylabel('z2')\n",
    "plt.title('Scatterplot of z1 vs z2')\n",
    "plt.legend()\n",
    "plt.show()"
   ]
  }
 ],
 "metadata": {
  "kernelspec": {
   "display_name": "qda",
   "language": "python",
   "name": "python3"
  },
  "language_info": {
   "codemirror_mode": {
    "name": "ipython",
    "version": 3
   },
   "file_extension": ".py",
   "mimetype": "text/x-python",
   "name": "python",
   "nbconvert_exporter": "python",
   "pygments_lexer": "ipython3",
   "version": "3.7.16"
  },
  "orig_nbformat": 4,
  "vscode": {
   "interpreter": {
    "hash": "d717af6dd7bf581d6248419f276a5c41cb14dbf2eb68781a99eea88c8ccd834c"
   }
  }
 },
 "nbformat": 4,
 "nbformat_minor": 2
}
