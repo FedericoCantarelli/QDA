{
 "cells": [
  {
   "attachments": {},
   "cell_type": "markdown",
   "metadata": {},
   "source": [
    "\n",
    "# Exercise 4\n",
    "\n",
    "In a chemical process, 70 consecutive measurements were made over time for a given quality characteristic of interest. Data are stored in `ESE4_ex4.csv` (series ‘F’ “Time Series Analysis – 3rd edition” Box Jenkins Reinsel – Prentice Hall) \n",
    "\n",
    "\n",
    "Estimate the most suitable ARIMA model."
   ]
  },
  {
   "cell_type": "code",
   "execution_count": null,
   "metadata": {},
   "outputs": [],
   "source": [
    "# Import the necessary libraries\n",
    "import numpy as np\n",
    "import matplotlib.pyplot as plt\n",
    "import pandas as pd\n",
    "from scipy import stats\n",
    "import seaborn as sns\n",
    "\n",
    "# Import the dataset\n",
    "data = pd.read_csv('ESE4_ex4.csv')\n",
    "\n",
    "# Inspect the dataset\n",
    "data.head()"
   ]
  },
  {
   "cell_type": "code",
   "execution_count": null,
   "metadata": {},
   "outputs": [],
   "source": [
    "# Plot the data \n",
    "plt.plot(data['EXE4'], 'o-')\n",
    "plt.xlabel('Index')\n",
    "plt.ylabel('EXE4')\n",
    "plt.title('Time series plot of EXE4')\n",
    "plt.grid()\n",
    "plt.show()"
   ]
  },
  {
   "attachments": {},
   "cell_type": "markdown",
   "metadata": {},
   "source": [
    "> We observe a very high number of runs  \n",
    ">\n",
    "> <t1 style=\"color:red\"> REMIND: typical pattern of negatively correlated process </t1>\n",
    ">\n",
    "> Systematic variation of observations above and below the mean"
   ]
  },
  {
   "cell_type": "code",
   "execution_count": null,
   "metadata": {},
   "outputs": [],
   "source": [
    "# Import the necessary libraries for the runs test\n",
    "from statsmodels.sandbox.stats.runs import runstest_1samp\n",
    "\n",
    "_, pval_runs = runstest_1samp(data['EXE4'], correction=False)\n",
    "print('Runs test p-value = {:.3f}'.format(pval_runs))\n",
    "\n",
    "# Plot the acf and pacf using the statsmodels library\n",
    "import statsmodels.graphics.tsaplots as sgt\n",
    "\n",
    "fig, ax = plt.subplots(2, 1)\n",
    "sgt.plot_acf(data['EXE4'], lags = int(len(data)/3), zero=False, ax=ax[0])\n",
    "fig.subplots_adjust(hspace=0.5)\n",
    "sgt.plot_pacf(data['EXE4'], lags = int(len(data)/3), zero=False, ax=ax[1], method = 'ywm')\n",
    "plt.show()"
   ]
  },
  {
   "attachments": {},
   "cell_type": "markdown",
   "metadata": {},
   "source": [
    "> Some considerations:\n",
    "> - It looks almost stationary\n",
    "> - Geometric decay of ACF?\n",
    "> - Most suitable model may be $AR(1)$ (with negative coeff.)"
   ]
  },
  {
   "cell_type": "code",
   "execution_count": null,
   "metadata": {},
   "outputs": [],
   "source": [
    "#calculate an ARIMA model: import the necessary library\n",
    "import qda\n",
    "\n",
    "# fit model ARIMA with constant term\n",
    "model = qda.ARIMA(data['EXE4'], order=(1,0,0), add_constant=True)\n",
    "\n",
    "qda.ARIMAsummary(model)\n"
   ]
  },
  {
   "attachments": {},
   "cell_type": "markdown",
   "metadata": {},
   "source": [
    "> The calculated ARIMA model is:\n",
    ">\n",
    "> $X_t =  51.2662 - 0.41491 X_{t-1} + \\epsilon_t $\n",
    ">\n",
    "> Finally, check the assumptions on residuals"
   ]
  },
  {
   "cell_type": "code",
   "execution_count": null,
   "metadata": {},
   "outputs": [],
   "source": [
    "#extract the residuals\n",
    "residuals = model.resid[1:] \n",
    "\n",
    "# Perform the Shapiro-Wilk test\n",
    "_, pval_SW = stats.shapiro(residuals)\n",
    "print('Shapiro-Wilk test p-value = %.3f' % pval_SW)\n",
    "\n",
    "# Plot the qqplot\n",
    "stats.probplot(residuals, dist=\"norm\", plot=plt)\n",
    "plt.show()"
   ]
  },
  {
   "cell_type": "code",
   "execution_count": null,
   "metadata": {},
   "outputs": [],
   "source": [
    "fig, ax = plt.subplots(2, 1)\n",
    "sgt.plot_acf(residuals, lags = int(len(data)/3), zero=False, ax=ax[0])\n",
    "fig.subplots_adjust(hspace=0.5)\n",
    "sgt.plot_pacf(residuals, lags = int(len(data)/3), zero=False, ax=ax[1], method = 'ywm')\n",
    "plt.show()"
   ]
  },
  {
   "cell_type": "code",
   "execution_count": null,
   "metadata": {},
   "outputs": [],
   "source": [
    "fig, axs = plt.subplots(2, 2)\n",
    "fig.suptitle('Residual Plots')\n",
    "stats.probplot(residuals, dist=\"norm\", plot=axs[0,0])\n",
    "axs[0,0].set_title('Normal probability plot')\n",
    "axs[0,1].scatter(model.fittedvalues[1:], model.resid[1:])\n",
    "axs[0,1].set_title('Versus Fits')\n",
    "fig.subplots_adjust(hspace=0.5)\n",
    "axs[1,0].hist(residuals)\n",
    "axs[1,0].set_title('Histogram')\n",
    "axs[1,1].plot(np.arange(1, len(residuals)+1), residuals, 'o-')\n",
    "plt.show()"
   ]
  },
  {
   "attachments": {},
   "cell_type": "markdown",
   "metadata": {},
   "source": [
    "> The model is adequate.\n",
    ">\n",
    "> The implementation of an $AR(1)$ can be done also solved with a linear regression, using as regressor the LAG1 of the series."
   ]
  },
  {
   "cell_type": "code",
   "execution_count": null,
   "metadata": {},
   "outputs": [],
   "source": [
    "#calculate a regression model with constant and lag1\n",
    "data['lag1'] = data['EXE4'].shift(1)\n",
    "\n",
    "import statsmodels.api as sm\n",
    "\n",
    "x = data['lag1'][1:]\n",
    "x = sm.add_constant(data['lag1'][1:]) # this command is used to consider a constant to the model, is equivalent to create and add a column of ones\n",
    "y = data['EXE4'][1:]\n",
    "model = sm.OLS(y, x).fit()\n",
    "qda.summary(model)"
   ]
  },
  {
   "cell_type": "code",
   "execution_count": null,
   "metadata": {},
   "outputs": [],
   "source": [
    "fig, axs = plt.subplots(2, 2)\n",
    "fig.suptitle('Residual Plots')\n",
    "stats.probplot(model.resid, dist=\"norm\", plot=axs[0,0])\n",
    "axs[0,0].set_title('Normal probability plot')\n",
    "axs[0,1].scatter(model.fittedvalues, model.resid)\n",
    "axs[0,1].set_title('Versus Fits')\n",
    "axs[1,0].hist(model.resid)\n",
    "fig.subplots_adjust(hspace=0.5)\n",
    "axs[1,0].set_title('Histogram')\n",
    "axs[1,1].plot(np.arange(1, len(model.resid)+1), model.resid, 'o-')\n",
    "_, pval_SW_res = stats.shapiro(model.resid)\n",
    "print('Shapiro-Wilk test p-value on the residuals = %.3f' % pval_SW_res)\n",
    "\n",
    "# Runs test and ACF/PACF\n",
    "_, pval_runs_res = runstest_1samp(model.resid, correction=False)\n",
    "print('Runs test p-value on the residuals = {:.3f}'.format(pval_runs_res))\n",
    "fig, ax = plt.subplots(2, 1)\n",
    "sgt.plot_acf(model.resid, lags = int(len(data)/3), zero=False, ax=ax[0])\n",
    "fig.subplots_adjust(hspace=0.5)\n",
    "sgt.plot_pacf(model.resid, lags = int(len(data)/3), zero=False, ax=ax[1], method = 'ywm')\n",
    "plt.show()"
   ]
  },
  {
   "attachments": {},
   "cell_type": "markdown",
   "metadata": {},
   "source": [
    "> <h3 style=\"color:red\">Notice:</h3>\n",
    ">\n",
    "> The coefficients of the AR(1) model fitted with ARIMA command are slightly different from the ones of the same model fitted with ordinary least squares because two different solvers are used.\n",
    ">\n",
    "> <h3 style=\"color:red\"> Remind that: </h3> \n",
    "> 'All models are wrong, but some are useful' (George E. P. Box)"
   ]
  }
 ],
 "metadata": {
  "kernelspec": {
   "display_name": "qda",
   "language": "python",
   "name": "python3"
  },
  "language_info": {
   "codemirror_mode": {
    "name": "ipython",
    "version": 3
   },
   "file_extension": ".py",
   "mimetype": "text/x-python",
   "name": "python",
   "nbconvert_exporter": "python",
   "pygments_lexer": "ipython3",
   "version": "3.7.16"
  },
  "orig_nbformat": 4,
  "vscode": {
   "interpreter": {
    "hash": "eac9dd858070b08fdc709cf60cc2b3e1e2a70bbc81fd2a1ff3e1f4d7210e3b2e"
   }
  }
 },
 "nbformat": 4,
 "nbformat_minor": 2
}
