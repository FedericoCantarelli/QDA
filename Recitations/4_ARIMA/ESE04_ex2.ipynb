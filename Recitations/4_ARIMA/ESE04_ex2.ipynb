{
 "cells": [
  {
   "attachments": {},
   "cell_type": "markdown",
   "metadata": {},
   "source": [
    "\n",
    "# Exercise 2\n",
    "In a process for the production of metal laminates we collected 100 sequential measurements of laminate width (time series ‘A’ “Statistical Control by monitoring and feedback adjustment” Box Luceño – J. Wiley)\n",
    "\n",
    "\n",
    "Identify and fit a model for the data.\n",
    "\n",
    "<t1 style=\"color:red\">\n",
    "In a future class:\n",
    "  \n",
    "Design a SCC control chart and a FVC control chart  \n",
    "</t1>\n"
   ]
  },
  {
   "cell_type": "code",
   "execution_count": null,
   "metadata": {},
   "outputs": [],
   "source": [
    "# Import the necessary libraries\n",
    "import numpy as np\n",
    "import matplotlib.pyplot as plt\n",
    "import pandas as pd\n",
    "from scipy import stats\n",
    "import seaborn as sns\n",
    "\n",
    "# Import the dataset\n",
    "data = pd.read_csv('ESE4_ex2.csv')\n",
    "\n",
    "# Inspect the dataset\n",
    "data.head()"
   ]
  },
  {
   "cell_type": "code",
   "execution_count": null,
   "metadata": {},
   "outputs": [],
   "source": [
    "# Plot the data \n",
    "plt.plot(data['EXE2'], 'o-')\n",
    "plt.xlabel('Index')\n",
    "plt.ylabel('EXE2')\n",
    "plt.title('Time series plot of EXE2')\n",
    "plt.grid()\n",
    "plt.show()"
   ]
  },
  {
   "attachments": {},
   "cell_type": "markdown",
   "metadata": {},
   "source": [
    "> let's verify the time dependence assumption with runs test and ACF/PACF"
   ]
  },
  {
   "cell_type": "code",
   "execution_count": null,
   "metadata": {},
   "outputs": [],
   "source": [
    "# Import the necessary libraries for the runs test\n",
    "from statsmodels.sandbox.stats.runs import runstest_1samp\n",
    "\n",
    "_, pval_runs = runstest_1samp(data['EXE2'], correction=False)\n",
    "print('Runs test p-value = {:.3f}'.format(pval_runs))\n",
    "\n",
    "# Plot the acf and pacf using the statsmodels library\n",
    "import statsmodels.graphics.tsaplots as sgt\n",
    "\n",
    "fig, ax = plt.subplots(2, 1)\n",
    "sgt.plot_acf(data['EXE2'], lags = int(len(data)/3), zero=False, ax=ax[0])\n",
    "fig.subplots_adjust(hspace=0.5)\n",
    "sgt.plot_pacf(data['EXE2'], lags = int(len(data)/3), zero=False, ax=ax[1], method = 'ywm')\n",
    "plt.show()"
   ]
  },
  {
   "attachments": {},
   "cell_type": "markdown",
   "metadata": {},
   "source": [
    "> The process is NON-STATIONARY.\n",
    ">\n",
    "> Let's try to apply the difference operator."
   ]
  },
  {
   "cell_type": "code",
   "execution_count": null,
   "metadata": {},
   "outputs": [],
   "source": [
    "data['diff1'] = data['EXE2'].diff(1)\n",
    "\n",
    "plt.plot(data['diff1'], 'o-')\n",
    "plt.xlabel('Index')\n",
    "plt.ylabel('DIFF 1')\n",
    "plt.title('Time series plot of DIFF 1')\n",
    "plt.grid()\n",
    "plt.show()"
   ]
  },
  {
   "attachments": {},
   "cell_type": "markdown",
   "metadata": {},
   "source": [
    "> Let's verify again the time dependence assumption with runs test and ACF/PACF on the DIFF1 data"
   ]
  },
  {
   "cell_type": "code",
   "execution_count": null,
   "metadata": {},
   "outputs": [],
   "source": [
    "_, pval_runs = runstest_1samp(data['diff1'][1:], correction=False)\n",
    "print('Runs test p-value = {:.3f}'.format(pval_runs))\n",
    "\n",
    "fig, ax = plt.subplots(2, 1)\n",
    "sgt.plot_acf(data['diff1'][1:], lags = int(len(data)/3), zero=False, ax=ax[0])\n",
    "fig.subplots_adjust(hspace=0.5)\n",
    "sgt.plot_pacf(data['diff1'][1:], lags = int(len(data)/3), zero=False, ax=ax[1], method = 'ywm')\n",
    "plt.show()"
   ]
  },
  {
   "attachments": {},
   "cell_type": "markdown",
   "metadata": {},
   "source": [
    "> After the differencing operation, the most suitable model seems to be an MA(1). Thus the investigated model is ARIMA(0,1,1)"
   ]
  },
  {
   "cell_type": "code",
   "execution_count": null,
   "metadata": {},
   "outputs": [],
   "source": [
    "# calculate an ARIMA model: import the necessary library\n",
    "import qda"
   ]
  },
  {
   "attachments": {},
   "cell_type": "markdown",
   "metadata": {},
   "source": [
    "> The function `qda.ARIMA()` requires as inputs:\n",
    "> 1. The dataframe with the data.\n",
    "> 2. The `order` parameter, i.e., the $(p, d, q)$ of the model: $AR(p)$, $I(d)$, $MA(q)$.\n",
    "> 3. The `add_constant` parameter, i.e. the presence of a constant term in the model:\n",
    ">    - `False`, for no constant term.\n",
    ">    - `True`, for a constant term."
   ]
  },
  {
   "cell_type": "code",
   "execution_count": null,
   "metadata": {},
   "outputs": [],
   "source": [
    "# fit model ARIMA with constant term\n",
    "x = data['EXE2']\n",
    "model = qda.ARIMA(x, order=(0,1,1), add_constant = True) \n",
    "\n",
    "qda.ARIMAsummary(model)"
   ]
  },
  {
   "attachments": {},
   "cell_type": "markdown",
   "metadata": {},
   "source": [
    "> The calculated ARIMA model is in the form:\n",
    ">\n",
    "> $Y_t - Y_{t-1} = \\nabla Y_t = \\mu - \\theta_{1}  \\epsilon_{t-1} + \\epsilon_t $\n",
    ">\n",
    "> The constant term ha a p-value of 0.169. Let's remove the constant value by omitting the `trend` parameter."
   ]
  },
  {
   "cell_type": "code",
   "execution_count": null,
   "metadata": {},
   "outputs": [],
   "source": [
    "# fit model ARIMA with constant term\n",
    "x = data['EXE2']\n",
    "model = qda.ARIMA(x, order=(0,1,1), add_constant=False) # ARIMA(p,d,q), no constant term\n",
    "\n",
    "qda.ARIMAsummary(model)"
   ]
  },
  {
   "attachments": {},
   "cell_type": "markdown",
   "metadata": {},
   "source": [
    "> The calculated ARIMA model is in the form:\n",
    ">\n",
    "> $Y_t - Y_{t-1} = \\nabla Y_t = \\theta_{1}  \\epsilon_{t-1} + \\epsilon_t $\n",
    ">\n",
    "> Let's check the assumptions on the residuals"
   ]
  },
  {
   "cell_type": "code",
   "execution_count": null,
   "metadata": {},
   "outputs": [],
   "source": [
    "#extract the residuals\n",
    "residuals = model.resid[1:]\n",
    "\n",
    "# Perform the Shapiro-Wilk test\n",
    "_, pval_SW = stats.shapiro(residuals)\n",
    "print('Shapiro-Wilk test p-value = %.3f' % pval_SW)\n",
    "\n",
    "# Plot the qqplot\n",
    "stats.probplot(residuals, dist=\"norm\", plot=plt)\n",
    "plt.show()"
   ]
  },
  {
   "cell_type": "code",
   "execution_count": null,
   "metadata": {},
   "outputs": [],
   "source": [
    "fig, ax = plt.subplots(2, 1)\n",
    "sgt.plot_acf(residuals, lags = int(len(data)/3), zero=False, ax=ax[0])\n",
    "fig.subplots_adjust(hspace=0.5)\n",
    "sgt.plot_pacf(residuals, lags = int(len(data)/3), zero=False, ax=ax[1], method = 'ywm')\n",
    "plt.show()"
   ]
  },
  {
   "attachments": {},
   "cell_type": "markdown",
   "metadata": {},
   "source": [
    "Try at home: Bartlett test and LBQ test on ARIMA model residuals"
   ]
  },
  {
   "cell_type": "code",
   "execution_count": null,
   "metadata": {},
   "outputs": [],
   "source": [
    "fig, axs = plt.subplots(2, 2)\n",
    "fig.suptitle('Residual Plots')\n",
    "stats.probplot(residuals, dist=\"norm\", plot=axs[0,0])\n",
    "axs[0,0].set_title('Normal probability plot')\n",
    "axs[0,1].scatter(model.fittedvalues[1:], residuals)\n",
    "axs[0,1].set_title('Versus Fits')\n",
    "fig.subplots_adjust(hspace=0.5)\n",
    "axs[1,0].hist(residuals)\n",
    "axs[1,0].set_title('Histogram')\n",
    "axs[1,1].plot(np.arange(1, len(residuals)+1), residuals, 'o-')\n",
    "plt.show()"
   ]
  },
  {
   "attachments": {},
   "cell_type": "markdown",
   "metadata": {},
   "source": [
    "> The model is adequate. "
   ]
  }
 ],
 "metadata": {
  "kernelspec": {
   "display_name": "qda-base",
   "language": "python",
   "name": "python3"
  },
  "language_info": {
   "codemirror_mode": {
    "name": "ipython",
    "version": 3
   },
   "file_extension": ".py",
   "mimetype": "text/x-python",
   "name": "python",
   "nbconvert_exporter": "python",
   "pygments_lexer": "ipython3",
   "version": "3.7.16"
  },
  "orig_nbformat": 4,
  "vscode": {
   "interpreter": {
    "hash": "32b5ad8a1e88df1e33b06d38acb653c72d9d8bae24de032480219da9970c28a8"
   }
  }
 },
 "nbformat": 4,
 "nbformat_minor": 2
}
